{
 "cells": [
  {
   "cell_type": "code",
   "execution_count": 13,
   "metadata": {
    "collapsed": false
   },
   "outputs": [
    {
     "name": "stdout",
     "output_type": "stream",
     "text": [
      "The autoreload extension is already loaded. To reload it, use:\n",
      "  %reload_ext autoreload\n"
     ]
    }
   ],
   "source": [
    "%load_ext autoreload\n",
    "%autoreload 2\n",
    "%matplotlib inline"
   ]
  },
  {
   "cell_type": "code",
   "execution_count": 14,
   "metadata": {
    "collapsed": true
   },
   "outputs": [],
   "source": [
    "\n",
    "import os\n",
    "import glob\n",
    "import sys\n",
    "import multiprocessing as mpp\n",
    "\n",
    "reduce_factor=2\n",
    "new_size=400\n",
    "delay=20\n",
    "max_frame = 500\n",
    "\n",
    "mpp_mode=True"
   ]
  },
  {
   "cell_type": "markdown",
   "metadata": {},
   "source": [
    "### Earthquake version:\n",
    "(wrap in function calls so we can mpp them)."
   ]
  },
  {
   "cell_type": "code",
   "execution_count": 15,
   "metadata": {
    "collapsed": false
   },
   "outputs": [],
   "source": [
    "def do_eq():\n",
    "    files_list = sorted([g for j,g in enumerate(glob.glob('imagesEq/*.png')) if int(g.split('-')[1].split('.')[0])<max_frame],\n",
    "                        key=lambda rw: int(rw.split('-')[1].split('.')[0]))[::reduce_factor]\n",
    "    print(files_list[0:5])\n",
    "\n",
    "\n",
    "    convert_str = 'convert -delay {} -loop 0 -resize {}x {} animated_dwf_eq.gif'.format(delay, new_size, \n",
    "        ' '.join(files_list)) \n",
    "\n",
    "    #print(convert_str)\n",
    "    os.system(convert_str)"
   ]
  },
  {
   "cell_type": "markdown",
   "metadata": {
    "collapsed": true
   },
   "source": [
    "### Econ version:"
   ]
  },
  {
   "cell_type": "code",
   "execution_count": 16,
   "metadata": {
    "collapsed": false
   },
   "outputs": [],
   "source": [
    "def do_econ():\n",
    "    files_list = sorted([g for j,g in enumerate(glob.glob('imagesEcon/*.png')) if int(g.split('-')[1].split('.')[0])<max_frame],\n",
    "                        key=lambda rw: int(rw.split('-')[1].split('.')[0]))[::reduce_factor]\n",
    "    print(files_list[0:5])\n",
    "\n",
    "\n",
    "    convert_str = 'convert -delay {} -loop 0 -resize {}x {} animated_dwf_econ.gif'.format(delay, new_size, \n",
    "        ' '.join(files_list)) \n",
    "\n",
    "    #print(convert_str)\n",
    "    os.system(convert_str)"
   ]
  },
  {
   "cell_type": "markdown",
   "metadata": {},
   "source": [
    "### MPP (python) runner:\n",
    "(actaully, i think \"convert\" is multi-threaded, so this doesn't really do anything for us."
   ]
  },
  {
   "cell_type": "code",
   "execution_count": 17,
   "metadata": {
    "collapsed": false
   },
   "outputs": [
    {
     "name": "stdout",
     "output_type": "stream",
     "text": [
      "P1 started.\n",
      "['imagesEcon/dwaveFrame-0000.png', 'imagesEcon/dwaveFrame-0002.png', 'imagesEcon/dwaveFrame-0004.png', 'imagesEcon/dwaveFrame-0006.png', 'imagesEcon/dwaveFrame-0008.png']\n",
      "['imagesEq/dwaveFrame-0000.png', 'imagesEq/dwaveFrame-0002.png', 'imagesEq/dwaveFrame-0004.png', 'imagesEq/dwaveFrame-0006.png', 'imagesEq/dwaveFrame-0008.png']\n",
      "P2 started.\n",
      "finished P1 join()\n",
      "finishde P2 join()\n",
      "we should be finished...\n"
     ]
    }
   ],
   "source": [
    "if mpp_mode:\n",
    "    # ... and if this gets any more complicated, we'll want a Pool() or something...\n",
    "    # and note that it is possible that this will go badly becaust the matplotlib backents might interfere.\n",
    "    # (except this scritp assumes mpl is already done... which means, i think, that \"convert\" is already threaded, right?\n",
    "    # so we don't need to mpp here?)\n",
    "    #\n",
    "    P1 = mpp.Process(target=do_eq)\n",
    "    P2 = mpp.Process(target=do_econ)\n",
    "\n",
    "    P1.start()\n",
    "    print('P1 started.')\n",
    "    P2.start()\n",
    "    print('P2 started.')\n",
    "    #\n",
    "    # they don't return anything, so we don't really need to join, but it won't hurt...\n",
    "    P1.join()\n",
    "    print('finished P1 join()')\n",
    "    P2.join()\n",
    "    print('finishde P2 join()')\n",
    "\n",
    "    print('we should be finished...')\n",
    "\n"
   ]
  },
  {
   "cell_type": "markdown",
   "metadata": {},
   "source": [
    "### Serial runner\n",
    "( and i think \"convert\" does good multi-threading )"
   ]
  },
  {
   "cell_type": "code",
   "execution_count": 18,
   "metadata": {
    "collapsed": true
   },
   "outputs": [],
   "source": [
    "if not mpp_mode:\n",
    "    print('starting...')\n",
    "    print('doing_eq()')\n",
    "    a=do_eq()\n",
    "\n",
    "    print('doing econ()...')\n",
    "    b=do_econ()\n",
    "    print('finished.')"
   ]
  }
 ],
 "metadata": {
  "kernelspec": {
   "display_name": "Python 3",
   "language": "python",
   "name": "python3"
  },
  "language_info": {
   "codemirror_mode": {
    "name": "ipython",
    "version": 3
   },
   "file_extension": ".py",
   "mimetype": "text/x-python",
   "name": "python",
   "nbconvert_exporter": "python",
   "pygments_lexer": "ipython3",
   "version": "3.5.1"
  }
 },
 "nbformat": 4,
 "nbformat_minor": 0
}
