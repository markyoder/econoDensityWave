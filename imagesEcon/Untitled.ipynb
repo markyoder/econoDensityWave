{
 "cells": [
  {
   "cell_type": "code",
   "execution_count": 38,
   "metadata": {
    "collapsed": true
   },
   "outputs": [],
   "source": [
    "import os\n",
    "import glob\n",
    "import sys\n",
    "\n",
    "reduce_factor=2\n",
    "new_size=400\n",
    "delay=20"
   ]
  },
  {
   "cell_type": "code",
   "execution_count": 39,
   "metadata": {
    "collapsed": false
   },
   "outputs": [
    {
     "name": "stdout",
     "output_type": "stream",
     "text": [
      "['dwaveFrame-0000.png', 'dwaveFrame-0002.png', 'dwaveFrame-0004.png', 'dwaveFrame-0006.png', 'dwaveFrame-0008.png']\n"
     ]
    }
   ],
   "source": [
    "files_list = sorted([g for j,g in enumerate(glob.glob('*.png')) if int(g.split('-')[1].split('.')[0])<500],\n",
    "                    key=lambda rw: int(rw.split('-')[1].split('.')[0]))[::reduce_factor]\n",
    "print(files_list[0:5])"
   ]
  },
  {
   "cell_type": "code",
   "execution_count": 40,
   "metadata": {
    "collapsed": false
   },
   "outputs": [
    {
     "data": {
      "text/plain": [
       "0"
      ]
     },
     "execution_count": 40,
     "metadata": {},
     "output_type": "execute_result"
    }
   ],
   "source": [
    "\n",
    "convert_str = 'convert -delay {} -loop 0 -resize {}x {} animated_dwf.gif'.format(delay, new_size, \n",
    "    ' '.join(files_list)) \n",
    "\n",
    "#print(convert_str)\n",
    "os.system(convert_str)"
   ]
  },
  {
   "cell_type": "code",
   "execution_count": null,
   "metadata": {
    "collapsed": true
   },
   "outputs": [],
   "source": []
  }
 ],
 "metadata": {
  "kernelspec": {
   "display_name": "Python 3",
   "language": "python",
   "name": "python3"
  },
  "language_info": {
   "codemirror_mode": {
    "name": "ipython",
    "version": 3
   },
   "file_extension": ".py",
   "mimetype": "text/x-python",
   "name": "python",
   "nbconvert_exporter": "python",
   "pygments_lexer": "ipython3",
   "version": "3.5.1"
  }
 },
 "nbformat": 4,
 "nbformat_minor": 0
}
